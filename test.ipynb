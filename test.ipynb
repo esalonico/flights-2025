{
 "cells": [
  {
   "cell_type": "code",
   "execution_count": 1,
   "metadata": {},
   "outputs": [],
   "source": [
    "from fast_flights import create_filter, get_flights_from_filter, FlightData, Passengers"
   ]
  },
  {
   "cell_type": "code",
   "execution_count": 2,
   "metadata": {},
   "outputs": [],
   "source": [
    "base_search_url = \"https://www.google.com/travel/flights/search\""
   ]
  },
  {
   "cell_type": "code",
   "execution_count": 3,
   "metadata": {},
   "outputs": [
    {
     "data": {
      "text/plain": [
       "TFSData(flight_data=[FlightData(date='2025-04-01', from_airport=FCO, to_airport=MUC, max_stops=None), FlightData(date='2025-04-12', from_airport=MUC, to_airport=FCO, max_stops=None)], max_stops=None)"
      ]
     },
     "execution_count": 3,
     "metadata": {},
     "output_type": "execute_result"
    }
   ],
   "source": [
    "filter = create_filter(\n",
    "    flight_data=[\n",
    "        FlightData(date=\"2025-04-01\", from_airport=\"FCO\", to_airport=\"MUC\"),\n",
    "        FlightData(date=\"2025-04-20\", from_airport=\"MUC\", to_airport=\"FCO\"),\n",
    "    ],\n",
    "    trip=\"round-trip\",\n",
    "    passengers=Passengers(adults=1),\n",
    "    seat=\"economy\",\n",
    ")\n",
    "filter"
   ]
  },
  {
   "cell_type": "code",
   "execution_count": 4,
   "metadata": {},
   "outputs": [
    {
     "name": "stdout",
     "output_type": "stream",
     "text": [
      "13 flights found\n"
     ]
    }
   ],
   "source": [
    "result = get_flights_from_filter(filter, currency=\"EUR\", mode=\"common\")\n",
    "\n",
    "if result:\n",
    "    print(f\"{len(result.flights)} flights found\")"
   ]
  },
  {
   "cell_type": "code",
   "execution_count": 5,
   "metadata": {},
   "outputs": [
    {
     "name": "stdout",
     "output_type": "stream",
     "text": [
      "Flight(is_best=True, airport_from='FCO', airport_to='MUC', airlines='easyJet', departure=datetime.datetime(2025, 4, 1, 7, 20), arrival=datetime.datetime(2025, 4, 1, 9, 5), duration=105, stops=0, stops_location=None, layover_duration=None, delay=None, price=102, airline_logo_url='https://www.gstatic.com/flights/airline_logos/70px/U2.png', self_transfer=False, hand_luggage_only=True)\n",
      "Flight(is_best=True, airport_from='FCO', airport_to='MUC', airlines='easyJet', departure=datetime.datetime(2025, 4, 1, 15, 5), arrival=datetime.datetime(2025, 4, 1, 16, 50), duration=105, stops=0, stops_location=None, layover_duration=None, delay=None, price=102, airline_logo_url='https://www.gstatic.com/flights/airline_logos/70px/U2.png', self_transfer=False, hand_luggage_only=True)\n",
      "Flight(is_best=True, airport_from='FCO', airport_to='MUC', airlines='Lufthansa', departure=datetime.datetime(2025, 4, 1, 8, 10), arrival=datetime.datetime(2025, 4, 1, 9, 45), duration=95, stops=0, stops_location=None, layover_duration=None, delay=None, price=218, airline_logo_url='https://www.gstatic.com/flights/airline_logos/70px/LH.png', self_transfer=False, hand_luggage_only=False)\n",
      "Flight(is_best=False, airport_from='FCO', airport_to='MUC', airlines='Lufthansa', departure=datetime.datetime(2025, 4, 1, 15, 50), arrival=datetime.datetime(2025, 4, 1, 17, 30), duration=100, stops=0, stops_location=None, layover_duration=None, delay=None, price=218, airline_logo_url='https://www.gstatic.com/flights/airline_logos/70px/LH.png', self_transfer=False, hand_luggage_only=False)\n",
      "Flight(is_best=False, airport_from='FCO', airport_to='MUC', airlines='Vueling', departure=datetime.datetime(2025, 4, 1, 21, 40), arrival=datetime.datetime(2025, 4, 3, 9, 40), duration=720, stops=1, stops_location=['BCN'], layover_duration=475, delay=None, price=237, airline_logo_url='https://www.gstatic.com/flights/airline_logos/70px/VY.png', self_transfer=False, hand_luggage_only=True)\n",
      "Flight(is_best=False, airport_from='FCO', airport_to='MUC', airlines='Vueling', departure=datetime.datetime(2025, 4, 1, 14, 15), arrival=datetime.datetime(2025, 4, 1, 20, 25), duration=370, stops=1, stops_location=['BCN'], layover_duration=135, delay=None, price=255, airline_logo_url='https://www.gstatic.com/flights/airline_logos/70px/VY.png', self_transfer=False, hand_luggage_only=True)\n",
      "Flight(is_best=False, airport_from='FCO', airport_to='MUC', airlines='Lufthansa', departure=datetime.datetime(2025, 4, 1, 10, 50), arrival=datetime.datetime(2025, 4, 1, 12, 25), duration=95, stops=0, stops_location=None, layover_duration=None, delay=None, price=258, airline_logo_url='https://www.gstatic.com/flights/airline_logos/70px/LH.png', self_transfer=False, hand_luggage_only=False)\n",
      "Flight(is_best=False, airport_from='FCO', airport_to='MUC', airlines='Lufthansa', departure=datetime.datetime(2025, 4, 1, 12, 50), arrival=datetime.datetime(2025, 4, 1, 14, 25), duration=95, stops=0, stops_location=None, layover_duration=None, delay=None, price=258, airline_logo_url='https://www.gstatic.com/flights/airline_logos/70px/LH.png', self_transfer=False, hand_luggage_only=False)\n",
      "Flight(is_best=False, airport_from='FCO', airport_to='MUC', airlines='Lufthansa', departure=datetime.datetime(2025, 4, 1, 18, 55), arrival=datetime.datetime(2025, 4, 1, 20, 35), duration=100, stops=0, stops_location=None, layover_duration=None, delay=None, price=258, airline_logo_url='https://www.gstatic.com/flights/airline_logos/70px/LH.png', self_transfer=False, hand_luggage_only=False)\n",
      "Flight(is_best=False, airport_from='FCO', airport_to='MUC', airlines='Vueling', departure=datetime.datetime(2025, 4, 1, 6, 25), arrival=datetime.datetime(2025, 4, 1, 20, 25), duration=840, stops=1, stops_location=['BCN'], layover_duration=605, delay=None, price=259, airline_logo_url='https://www.gstatic.com/flights/airline_logos/70px/VY.png', self_transfer=False, hand_luggage_only=True)\n",
      "Flight(is_best=False, airport_from='FCO', airport_to='MUC', airlines='Vueling', departure=datetime.datetime(2025, 4, 1, 9, 5), arrival=datetime.datetime(2025, 4, 1, 20, 25), duration=680, stops=1, stops_location=['BCN'], layover_duration=435, delay=None, price=259, airline_logo_url='https://www.gstatic.com/flights/airline_logos/70px/VY.png', self_transfer=False, hand_luggage_only=True)\n",
      "Flight(is_best=False, airport_from='FCO', airport_to='MUC', airlines='easyJet', departure=datetime.datetime(2025, 4, 1, 21, 5), arrival=datetime.datetime(2025, 4, 3, 9, 10), duration=725, stops=1, stops_location=['LGW'], layover_duration=455, delay=None, price=564, airline_logo_url='https://www.gstatic.com/flights/airline_logos/70px/U2.png', self_transfer=True, hand_luggage_only=True)\n",
      "Flight(is_best=False, airport_from='FCO', airport_to='MUC', airlines='AJet', departure=datetime.datetime(2025, 4, 1, 12, 30), arrival=datetime.datetime(2025, 4, 3, 11, 55), duration=1405, stops=1, stops_location=['SAW'], layover_duration=1070, delay=None, price=799, airline_logo_url='https://www.gstatic.com/flights/airline_logos/70px/VF.png', self_transfer=False, hand_luggage_only=False)\n"
     ]
    }
   ],
   "source": [
    "if result:\n",
    "    for f in result.flights:\n",
    "        print(f)"
   ]
  }
 ],
 "metadata": {
  "kernelspec": {
   "display_name": ".venv",
   "language": "python",
   "name": "python3"
  },
  "language_info": {
   "codemirror_mode": {
    "name": "ipython",
    "version": 3
   },
   "file_extension": ".py",
   "mimetype": "text/x-python",
   "name": "python",
   "nbconvert_exporter": "python",
   "pygments_lexer": "ipython3",
   "version": "3.12.8"
  }
 },
 "nbformat": 4,
 "nbformat_minor": 2
}
