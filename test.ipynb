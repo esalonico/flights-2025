{
 "cells": [
  {
   "cell_type": "code",
   "execution_count": 1,
   "metadata": {},
   "outputs": [],
   "source": [
    "from fast_flights import create_filter, get_flights_from_filter, FlightData, Passengers"
   ]
  },
  {
   "cell_type": "code",
   "execution_count": 2,
   "metadata": {},
   "outputs": [],
   "source": [
    "base_search_url = \"https://www.google.com/travel/flights/search\""
   ]
  },
  {
   "cell_type": "code",
   "execution_count": 3,
   "metadata": {},
   "outputs": [
    {
     "name": "stdout",
     "output_type": "stream",
     "text": [
      "TFSData(flight_data=[FlightData(date='2025-04-01', from_airport=FMM, to_airport=FCO, max_stops=None)], max_stops=None)\n"
     ]
    }
   ],
   "source": [
    "filter = create_filter(\n",
    "    flight_data=[\n",
    "        FlightData(date=\"2025-04-01\", from_airport=\"LAX\", to_airport=\"MIA\"),\n",
    "    ],\n",
    "    trip=\"one-way\",\n",
    "    passengers=Passengers(adults=1),\n",
    "    seat=\"economy\",\n",
    "    max_stops=0\n",
    ")\n",
    "\n",
    "print(filter)"
   ]
  },
  {
   "cell_type": "code",
   "execution_count": 4,
   "metadata": {},
   "outputs": [
    {
     "name": "stdout",
     "output_type": "stream",
     "text": [
      "https://www.google.com/travel/flights?tfs=GhoSCjIwMjUtMDQtMDFqBRIDRk1NcgUSA0ZDT0IBAUgBmAEC&hl=en&tfu=EgQIABABIgA&curr=EUR\n",
      "2 flights found\n"
     ]
    }
   ],
   "source": [
    "result = get_flights_from_filter(filter, currency=\"EUR\", mode=\"common\")\n",
    "\n",
    "if result:\n",
    "    print(f\"{len(result.flights)} flights found\")"
   ]
  },
  {
   "cell_type": "code",
   "execution_count": 5,
   "metadata": {},
   "outputs": [
    {
     "name": "stdout",
     "output_type": "stream",
     "text": [
      "Flight(is_best=True, airport_from='FMM', airport_to='FCO', airlines='RyanairOperated by Malta Air', departure=datetime.datetime(2025, 4, 1, 8, 40), arrival=datetime.datetime(2025, 4, 1, 10, 10), duration=90, stops=0, stops_location=None, layover_duration=None, delay=None, price=48, airline_logo_url='https://www.gstatic.com/flights/airline_logos/70px/FR.png', self_transfer=False, hand_luggage_only=True)\n",
      "Flight(is_best=True, airport_from='FMM', airport_to='FCO', airlines='RyanairOperated by Malta Air', departure=datetime.datetime(2025, 4, 1, 14, 25), arrival=datetime.datetime(2025, 4, 1, 16, 0), duration=95, stops=0, stops_location=None, layover_duration=None, delay=None, price=48, airline_logo_url='https://www.gstatic.com/flights/airline_logos/70px/FR.png', self_transfer=False, hand_luggage_only=True)\n"
     ]
    }
   ],
   "source": [
    "if result:\n",
    "    for f in result.flights:\n",
    "        print(f)"
   ]
  }
 ],
 "metadata": {
  "kernelspec": {
   "display_name": ".venv",
   "language": "python",
   "name": "python3"
  },
  "language_info": {
   "codemirror_mode": {
    "name": "ipython",
    "version": 3
   },
   "file_extension": ".py",
   "mimetype": "text/x-python",
   "name": "python",
   "nbconvert_exporter": "python",
   "pygments_lexer": "ipython3",
   "version": "3.12.8"
  }
 },
 "nbformat": 4,
 "nbformat_minor": 2
}
